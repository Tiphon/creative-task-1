{
 "cells": [
  {
   "cell_type": "markdown",
   "id": "54ff931b-71df-4232-9080-855429eee2a7",
   "metadata": {},
   "source": [
    "Поворот картинки"
   ]
  },
  {
   "cell_type": "code",
   "execution_count": null,
   "id": "26e58617-55f4-484c-b9db-346cbb09516a",
   "metadata": {},
   "outputs": [],
   "source": [
    "from PIL import Image\n",
    "image = Image.open(\"python.jpeg\")\n",
    "rotated_image = image.rotate(45)\n",
    "rotated_image.save(\"rotated.jpeg\")"
   ]
  },
  {
   "cell_type": "markdown",
   "id": "f8076055-1725-4c19-a74f-1528bf49930d",
   "metadata": {},
   "source": [
    "Вывод формата"
   ]
  },
  {
   "cell_type": "code",
   "execution_count": 3,
   "id": "37a3948e-75b4-460f-819a-c9d443fbbbd8",
   "metadata": {},
   "outputs": [
    {
     "name": "stdout",
     "output_type": "stream",
     "text": [
      "JPEG\n"
     ]
    }
   ],
   "source": [
    "from PIL import Image\n",
    "image = Image.open(\"python.jpeg\")\n",
    "print(image.format)"
   ]
  },
  {
   "cell_type": "markdown",
   "id": "c4a15c75-ec23-4f70-b1eb-ed17f1880cc8",
   "metadata": {},
   "source": [
    "Копия изображения"
   ]
  },
  {
   "cell_type": "code",
   "execution_count": null,
   "id": "28f04279-9e60-4977-ad9f-3e2c9f358b64",
   "metadata": {},
   "outputs": [],
   "source": [
    "from PIL import Image\n",
    "image = Image.open(\"python.jpeg\")\n",
    "image.save(\"python2.jpeg\")"
   ]
  },
  {
   "cell_type": "markdown",
   "id": "5d276613-428a-4fcc-b83a-1e05592499f2",
   "metadata": {},
   "source": [
    "Обрезать изображение"
   ]
  },
  {
   "cell_type": "code",
   "execution_count": 10,
   "id": "e54fe4db-618c-477f-9d51-60dcf3096593",
   "metadata": {},
   "outputs": [],
   "source": [
    "from PIL import Image\n",
    "image = Image.open(\"python.jpeg\")\n",
    "coordinates = (100, 0, image.width, image.height) # вводим координаты, которые хотим обрезать\n",
    "cut = image.crop(coordinates) # обрезаем\n",
    "cut.save(\"cut.jpeg\")"
   ]
  },
  {
   "cell_type": "markdown",
   "id": "4872ddbd-37bc-46da-a727-c70aad281601",
   "metadata": {},
   "source": [
    "увеличение/уменьшение изображения Функция thumbnail"
   ]
  },
  {
   "cell_type": "code",
   "execution_count": 22,
   "id": "cecd707d-66ef-4b5d-9194-f176bb4bf24a",
   "metadata": {},
   "outputs": [
    {
     "name": "stdout",
     "output_type": "stream",
     "text": [
      "(225, 225)\n",
      "(225, 225)\n"
     ]
    }
   ],
   "source": [
    "from PIL import Image\n",
    "image = Image.open(\"python.jpeg\")\n",
    "print(image.size)  #выводим размер изображения, тут он 225 на 225 пикселей\n",
    "image.thumbnail((200, 200))   #указываем желаемое количество пискелей\n",
    "print(image.size)  #выводим уменьшенный размер изображения, тут он 200 на 200 пикселей"
   ]
  },
  {
   "cell_type": "markdown",
   "id": "bff2ad71-4d12-4593-bdfd-cbc69000f40b",
   "metadata": {},
   "source": [
    "теперь картинка 200 на 200 пикселей"
   ]
  },
  {
   "cell_type": "markdown",
   "id": "e0d0b57d-5557-4b48-8780-c474797520ed",
   "metadata": {},
   "source": [
    "Соединение 2-х изображений"
   ]
  },
  {
   "cell_type": "code",
   "execution_count": 25,
   "id": "1251815c-2142-4bf5-a8d4-ca0fe93c9547",
   "metadata": {},
   "outputs": [
    {
     "name": "stdout",
     "output_type": "stream",
     "text": [
      "(225, 225)\n",
      "(225, 225)\n"
     ]
    }
   ],
   "source": [
    "from PIL import Image\n",
    "image1 = Image.open(\"python.jpeg\")\n",
    "print(image.size) # проверка размера изображеня для подгона её размера\n",
    "image2 = Image.open(\"code.jpeg\")\n",
    "print(image2.size) # проверка размера изображеня для подгона её размера\n",
    "image2.thumbnail((225, 225)) # подгоняем 2 картинку под размер первой\n",
    "result = Image.blend(image1, image2, 0.5)  # Получится картинка, сложенная из двух\n",
    "result.save(\"result.jpeg\")"
   ]
  },
  {
   "cell_type": "code",
   "execution_count": null,
   "id": "f6ec87a2-c866-4cfe-ac3e-d03165c615e8",
   "metadata": {},
   "outputs": [],
   "source": []
  }
 ],
 "metadata": {
  "kernelspec": {
   "display_name": "Python 3 (ipykernel)",
   "language": "python",
   "name": "python3"
  },
  "language_info": {
   "codemirror_mode": {
    "name": "ipython",
    "version": 3
   },
   "file_extension": ".py",
   "mimetype": "text/x-python",
   "name": "python",
   "nbconvert_exporter": "python",
   "pygments_lexer": "ipython3",
   "version": "3.12.4"
  }
 },
 "nbformat": 4,
 "nbformat_minor": 5
}
