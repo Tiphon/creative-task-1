{
 "cells": [
  {
   "cell_type": "code",
   "execution_count": 17,
   "id": "574accb5-da4f-4b90-afe1-f48799697599",
   "metadata": {},
   "outputs": [
    {
     "name": "stdout",
     "output_type": "stream",
     "text": [
      "RGB\n",
      "JPEG\n"
     ]
    }
   ],
   "source": [
    "from PIL import Image\n",
    "image = Image.open(\"python.jpeg\")\n",
    "rotated_image = image.rotate(45)\n",
    "rotated_image.save(\"rotated.jpeg\")"
   ]
  },
  {
   "cell_type": "code",
   "execution_count": null,
   "id": "b8e7a3b5-e68c-460a-baac-b567ed9af75d",
   "metadata": {},
   "outputs": [],
   "source": []
  },
  {
   "cell_type": "code",
   "execution_count": null,
   "id": "6d2ade55-315e-400a-963e-b38f89abd52d",
   "metadata": {},
   "outputs": [],
   "source": []
  }
 ],
 "metadata": {
  "kernelspec": {
   "display_name": "Python 3 (ipykernel)",
   "language": "python",
   "name": "python3"
  },
  "language_info": {
   "codemirror_mode": {
    "name": "ipython",
    "version": 3
   },
   "file_extension": ".py",
   "mimetype": "text/x-python",
   "name": "python",
   "nbconvert_exporter": "python",
   "pygments_lexer": "ipython3",
   "version": "3.12.4"
  }
 },
 "nbformat": 4,
 "nbformat_minor": 5
}
